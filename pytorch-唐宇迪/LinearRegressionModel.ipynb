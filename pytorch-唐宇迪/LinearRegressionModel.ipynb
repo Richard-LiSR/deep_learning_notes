{
 "cells": [
  {
   "cell_type": "markdown",
   "source": [
    "# 线性模型训练"
   ],
   "metadata": {
    "collapsed": true
   }
  },
  {
   "cell_type": "code",
   "execution_count": 2,
   "source": [
    "# 线性回归模型\n",
    "from statistics import mode\n",
    "import numpy as np\n",
    "import torch\n",
    "import torch.nn as nn\n",
    "\n",
    "x_values = [i for i in range(11)]\n",
    "x_train = np.array(x_values, dtype=np.float32)\n",
    "x_train = x_train.reshape(-1, 1)\n",
    "\n",
    "y_values = [2 * i + 1 for i in x_values]\n",
    "y_train = np.array(y_values, dtype=np.float32)\n",
    "y_train = y_train.reshape(-1, 1)\n",
    "\n",
    "\n",
    "class LinearRegressionModel(nn.Module):\n",
    "    def __init__(self, input_dim, output_dim):\n",
    "        super(LinearRegressionModel, self).__init__()\n",
    "        self.linear = nn.Linear(input_dim, output_dim)\n",
    "\n",
    "    def forward(self, x):\n",
    "        out = self.linear(x)\n",
    "        return out\n",
    "\n",
    "\n",
    "input_dim = 1\n",
    "output_dim = 1\n",
    "model = LinearRegressionModel(input_dim, output_dim)\n",
    "# 将数据传入到cuda中\n",
    "device = torch.device('cuda:0' if torch.cuda.is_available() else \"cpu\")\n",
    "model.to(device)\n",
    "\n",
    "\n",
    "print(model)\n",
    "\n",
    "# 指定好参数和损失函数\n",
    "\n",
    "#     指定迭代次数\n",
    "epoches = 1000\n",
    "#     定义学习率\n",
    "learning_rate = 0.01\n",
    "#     创建优化器\n",
    "optimizer = torch.optim.SGD(model.parameters(), lr=learning_rate)\n",
    "criterion = nn.MSELoss()\n",
    "# 训练模型\n",
    "for epoch in range(epoches):\n",
    "    epoch += 1\n",
    "    # 将行转换成tensor模式\n",
    "    inputs = torch.from_numpy(x_train).to(device)\n",
    "    labels = torch.from_numpy(y_train).to(device)\n",
    "    # 每一次迭代，梯度需要清0\n",
    "    optimizer.zero_grad()\n",
    "    # 前向传播\n",
    "    outputs = model(inputs)\n",
    "    # 计算损失\n",
    "    loss = criterion(outputs, labels)\n",
    "    # 反向传播\n",
    "    loss.backward()\n",
    "    # 更新权重\n",
    "    optimizer.step()\n",
    "    if epoch % 50 == 0:\n",
    "        print(\"epoch = {},loss = {}\".format(epoch, loss))\n",
    "\n"
   ],
   "outputs": [
    {
     "name": "stdout",
     "output_type": "stream",
     "text": [
      "LinearRegressionModel(\n",
      "  (linear): Linear(in_features=1, out_features=1, bias=True)\n",
      ")\n",
      "epoch = 50,loss = 0.37557539343833923\n",
      "epoch = 100,loss = 0.21421407163143158\n",
      "epoch = 150,loss = 0.12217973917722702\n",
      "epoch = 200,loss = 0.06968677788972855\n",
      "epoch = 250,loss = 0.039746761322021484\n",
      "epoch = 300,loss = 0.022670086473226547\n",
      "epoch = 350,loss = 0.012930121272802353\n",
      "epoch = 400,loss = 0.007374887820333242\n",
      "epoch = 450,loss = 0.004206348676234484\n",
      "epoch = 500,loss = 0.0023991514462977648\n",
      "epoch = 550,loss = 0.0013683900469914079\n",
      "epoch = 600,loss = 0.0007804764318279922\n",
      "epoch = 650,loss = 0.0004451535060070455\n",
      "epoch = 700,loss = 0.00025389771326445043\n",
      "epoch = 750,loss = 0.00014481025573331863\n",
      "epoch = 800,loss = 8.259633614216e-05\n",
      "epoch = 850,loss = 4.710915527539328e-05\n",
      "epoch = 900,loss = 2.686952575459145e-05\n",
      "epoch = 950,loss = 1.5324989362852648e-05\n",
      "epoch = 1000,loss = 8.741718374949414e-06\n",
      "LinearRegressionModel(\n",
      "  (linear): Linear(in_features=1, out_features=1, bias=True)\n",
      ")\n",
      "epoch = 50,loss = 0.05033969506621361\n",
      "epoch = 100,loss = 0.02871188335120678\n",
      "epoch = 150,loss = 0.016376182436943054\n",
      "epoch = 200,loss = 0.009340379387140274\n",
      "epoch = 250,loss = 0.0053273835219442844\n",
      "epoch = 300,loss = 0.0030385374557226896\n",
      "epoch = 350,loss = 0.0017330646514892578\n",
      "epoch = 400,loss = 0.000988488201983273\n",
      "epoch = 450,loss = 0.0005637986469082534\n",
      "epoch = 500,loss = 0.0003215650503989309\n",
      "epoch = 550,loss = 0.00018340950191486627\n",
      "epoch = 600,loss = 0.00010461199417477474\n",
      "epoch = 650,loss = 5.966520984657109e-05\n",
      "epoch = 700,loss = 3.403326263651252e-05\n",
      "epoch = 750,loss = 1.941037226060871e-05\n",
      "epoch = 800,loss = 1.1070426808146294e-05\n",
      "epoch = 850,loss = 6.313558515103068e-06\n",
      "epoch = 900,loss = 3.6006856589665404e-06\n",
      "epoch = 950,loss = 2.053621074082912e-06\n",
      "epoch = 1000,loss = 1.1715239907061914e-06\n"
     ]
    }
   ],
   "metadata": {}
  },
  {
   "cell_type": "code",
   "execution_count": 3,
   "source": [
    "predicted = model(torch.from_numpy(x_train).to(device).requires_grad_()).data.cpu().numpy()\n",
    "predicted\n",
    "# 如果想把CUDA tensor格式的数据改成numpy时，需要先将其转换成cpu float-tensor随后再转到numpy格式。 numpy不能读取CUDA tensor 需要将它转化为 CPU tensor\n",
    "# 将predict.data.numpy() 改为predict.data.cpu().numpy()即可"
   ],
   "outputs": [
    {
     "data": {
      "text/plain": "array([[ 0.99798644],\n       [ 2.9982762 ],\n       [ 4.998566  ],\n       [ 6.998856  ],\n       [ 8.999146  ],\n       [10.999436  ],\n       [12.999726  ],\n       [15.000016  ],\n       [17.000305  ],\n       [19.000595  ],\n       [21.000885  ]], dtype=float32)"
     },
     "execution_count": 3,
     "metadata": {},
     "output_type": "execute_result"
    }
   ],
   "metadata": {
    "collapsed": false,
    "pycharm": {
     "name": "#%%\n"
    }
   }
  },
  {
   "cell_type": "code",
   "execution_count": 21,
   "source": [
    "# 保存模型\n",
    "torch.save(model.state_dict(),'model.pkl')\n",
    "# 加载模型\n",
    "model.load_state_dict(torch.load('model.pkl'))"
   ],
   "outputs": [
    {
     "output_type": "execute_result",
     "data": {
      "text/plain": [
       "<All keys matched successfully>"
      ]
     },
     "metadata": {},
     "execution_count": 21
    }
   ],
   "metadata": {
    "collapsed": false,
    "pycharm": {
     "name": "#%%\n"
    }
   }
  },
  {
   "cell_type": "code",
   "execution_count": null,
   "source": [],
   "outputs": [],
   "metadata": {}
  }
 ],
 "metadata": {
  "kernelspec": {
   "name": "pycharm-cf88fd0c",
   "language": "python",
   "display_name": "PyCharm (pytorch)"
  },
  "language_info": {
   "codemirror_mode": {
    "name": "ipython",
    "version": 2
   },
   "file_extension": ".py",
   "mimetype": "text/x-python",
   "name": "python",
   "nbconvert_exporter": "python",
   "pygments_lexer": "ipython2",
   "version": "2.7.6"
  }
 },
 "nbformat": 4,
 "nbformat_minor": 2
}