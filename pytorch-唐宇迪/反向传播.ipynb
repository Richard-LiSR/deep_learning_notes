{
 "cells": [
  {
   "cell_type": "code",
   "execution_count": 2,
   "source": [
    "import torch\n",
    "import numpy as np"
   ],
   "outputs": [],
   "metadata": {}
  },
  {
   "cell_type": "markdown",
   "source": [
    "# 需要求导的，可以手动定义"
   ],
   "metadata": {}
  },
  {
   "cell_type": "code",
   "execution_count": 3,
   "source": [
    "# 方法一\n",
    "x = torch.randn(3,4,requires_grad=True)\n",
    "x"
   ],
   "outputs": [
    {
     "output_type": "execute_result",
     "data": {
      "text/plain": [
       "tensor([[ 1.7937,  1.4139,  0.9823,  0.3730],\n",
       "        [ 0.4127,  0.1978, -0.1563,  0.8962],\n",
       "        [-0.2656,  1.7248,  1.4722, -0.4702]], requires_grad=True)"
      ]
     },
     "metadata": {},
     "execution_count": 3
    }
   ],
   "metadata": {}
  },
  {
   "cell_type": "code",
   "execution_count": 4,
   "source": [
    "# 方法二：\n",
    "x = torch.randn(3,4)\n",
    "x.requires_grad = True\n",
    "x"
   ],
   "outputs": [
    {
     "output_type": "execute_result",
     "data": {
      "text/plain": [
       "tensor([[-1.6555, -1.1397,  0.0185,  0.3001],\n",
       "        [ 1.3669, -0.6259,  0.5115,  0.7090],\n",
       "        [-1.7477, -0.4370,  1.4087, -1.3764]], requires_grad=True)"
      ]
     },
     "metadata": {},
     "execution_count": 4
    }
   ],
   "metadata": {}
  },
  {
   "cell_type": "code",
   "execution_count": 5,
   "source": [
    "b = torch.randn(3,4,requires_grad=True)\n",
    "print(b)\n",
    "t = x+b\n",
    "print(t)\n",
    "y = t.sum()\n",
    "y"
   ],
   "outputs": [
    {
     "output_type": "stream",
     "name": "stdout",
     "text": [
      "tensor([[-0.1344, -1.4319, -1.0915,  0.3131],\n",
      "        [ 0.8314,  2.1347,  0.1515, -0.9744],\n",
      "        [ 2.4599, -0.8820,  0.7951, -0.6868]], requires_grad=True)\n",
      "tensor([[-1.7900, -2.5716, -1.0730,  0.6132],\n",
      "        [ 2.1983,  1.5088,  0.6631, -0.2655],\n",
      "        [ 0.7122, -1.3190,  2.2037, -2.0632]], grad_fn=<AddBackward0>)\n"
     ]
    },
    {
     "output_type": "execute_result",
     "data": {
      "text/plain": [
       "tensor(-1.1829, grad_fn=<SumBackward0>)"
      ]
     },
     "metadata": {},
     "execution_count": 5
    }
   ],
   "metadata": {}
  },
  {
   "cell_type": "code",
   "execution_count": 8,
   "source": [
    "# 进行反向传播\n",
    "y.backward()\n",
    "print(y)"
   ],
   "outputs": [
    {
     "output_type": "stream",
     "name": "stdout",
     "text": [
      "tensor(-1.1829, grad_fn=<SumBackward0>)\n"
     ]
    }
   ],
   "metadata": {}
  },
  {
   "cell_type": "code",
   "execution_count": 7,
   "source": [
    "print(b.grad)"
   ],
   "outputs": [
    {
     "output_type": "stream",
     "name": "stdout",
     "text": [
      "tensor([[1., 1., 1., 1.],\n",
      "        [1., 1., 1., 1.],\n",
      "        [1., 1., 1., 1.]])\n"
     ]
    }
   ],
   "metadata": {}
  },
  {
   "cell_type": "code",
   "execution_count": null,
   "source": [],
   "outputs": [],
   "metadata": {}
  }
 ],
 "metadata": {
  "kernelspec": {
   "display_name": "Python 3",
   "language": "python",
   "name": "python3"
  },
  "language_info": {
   "codemirror_mode": {
    "name": "ipython",
    "version": 2
   },
   "file_extension": ".py",
   "mimetype": "text/x-python",
   "name": "python",
   "nbconvert_exporter": "python",
   "pygments_lexer": "ipython2",
   "version": "2.7.6"
  }
 },
 "nbformat": 4,
 "nbformat_minor": 2
}