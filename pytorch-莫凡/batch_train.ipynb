{
 "cells": [
  {
   "cell_type": "code",
   "execution_count": 14,
   "source": [
    "#导包\r\n",
    "import torch\r\n",
    "import torch.utils.data as Date\r\n",
    "import numpy as np \r\n",
    "import matplotlib.pyplot as plt "
   ],
   "outputs": [],
   "metadata": {}
  },
  {
   "cell_type": "code",
   "execution_count": 15,
   "source": [
    "# 设定随机数种子\r\n",
    "torch.manual_seed(10)\r\n",
    "#加载数据\r\n",
    "x = torch.linspace(1,10,10) #生成一到10共10个的等差数列\r\n",
    "y = torch.linspace(10,1,10) #倒序生成一到10共10个的等差数列\r\n",
    "# 设置超参数\r\n",
    "batch_size = 5\r\n",
    "# learning_rate = 0.5"
   ],
   "outputs": [],
   "metadata": {}
  },
  {
   "cell_type": "code",
   "execution_count": 18,
   "source": [
    "#加载数据\r\n",
    "torch_dataset = Date.TensorDataset(x,y)\r\n",
    "loader = Date.DataLoader(\r\n",
    "    dataset=torch_dataset,\r\n",
    "    batch_size=batch_size,\r\n",
    "    shuffle=True ,#随机打乱\r\n",
    "    num_workers=2 #设置两个进程   \r\n",
    ")"
   ],
   "outputs": [
    {
     "output_type": "error",
     "ename": "AttributeError",
     "evalue": "'TensorDataset' object has no attribute 'dim'",
     "traceback": [
      "\u001b[1;31m---------------------------------------------------------------------------\u001b[0m",
      "\u001b[1;31mAttributeError\u001b[0m                            Traceback (most recent call last)",
      "\u001b[1;32m<ipython-input-18-4ec889715ef7>\u001b[0m in \u001b[0;36m<module>\u001b[1;34m\u001b[0m\n\u001b[0;32m      1\u001b[0m \u001b[1;31m#加载数据\u001b[0m\u001b[1;33m\u001b[0m\u001b[1;33m\u001b[0m\u001b[1;33m\u001b[0m\u001b[0m\n\u001b[0;32m      2\u001b[0m \u001b[0mtorch_dataset\u001b[0m \u001b[1;33m=\u001b[0m \u001b[0mDate\u001b[0m\u001b[1;33m.\u001b[0m\u001b[0mTensorDataset\u001b[0m\u001b[1;33m(\u001b[0m\u001b[0mx\u001b[0m\u001b[1;33m,\u001b[0m\u001b[0my\u001b[0m\u001b[1;33m)\u001b[0m\u001b[1;33m\u001b[0m\u001b[1;33m\u001b[0m\u001b[0m\n\u001b[1;32m----> 3\u001b[1;33m \u001b[0mprint\u001b[0m\u001b[1;33m(\u001b[0m\u001b[0mtorch_dataset\u001b[0m\u001b[1;33m.\u001b[0m\u001b[0mdim\u001b[0m\u001b[1;33m(\u001b[0m\u001b[1;33m)\u001b[0m\u001b[1;33m)\u001b[0m\u001b[1;33m\u001b[0m\u001b[1;33m\u001b[0m\u001b[0m\n\u001b[0m\u001b[0;32m      4\u001b[0m loader = Date.DataLoader(\n\u001b[0;32m      5\u001b[0m     \u001b[0mdataset\u001b[0m\u001b[1;33m=\u001b[0m\u001b[0mtorch_dataset\u001b[0m\u001b[1;33m,\u001b[0m\u001b[1;33m\u001b[0m\u001b[1;33m\u001b[0m\u001b[0m\n",
      "\u001b[1;31mAttributeError\u001b[0m: 'TensorDataset' object has no attribute 'dim'"
     ]
    }
   ],
   "metadata": {}
  },
  {
   "cell_type": "code",
   "execution_count": 17,
   "source": [
    "# 批处理训练\r\n",
    "def batch_train():\r\n",
    "    for epoch in range(3):\r\n",
    "        for step,(batch_x,batch_y) in enumerate(loader):\r\n",
    "            print('Epoch:',epoch,\"| step:\",step,\"|batch_x:\",batch_x.data.numpy(),\"|batch_y:\",batch_y.data.numpy)\r\n",
    "batch_train()"
   ],
   "outputs": [
    {
     "output_type": "stream",
     "name": "stdout",
     "text": [
      "Epoch: 0 | step: 0 |batch_x: [7. 3. 9. 2. 6.] |batch_y: [4. 8. 2. 9. 5.]\n",
      "Epoch: 0 | step: 1 |batch_x: [ 4.  8.  5.  1. 10.] |batch_y: [ 7.  3.  6. 10.  1.]\n",
      "Epoch: 1 | step: 0 |batch_x: [6. 1. 9. 7. 3.] |batch_y: [ 5. 10.  2.  4.  8.]\n",
      "Epoch: 1 | step: 1 |batch_x: [10.  8.  5.  4.  2.] |batch_y: [1. 3. 6. 7. 9.]\n",
      "Epoch: 2 | step: 0 |batch_x: [4. 6. 1. 5. 8.] |batch_y: [ 7.  5. 10.  6.  3.]\n",
      "Epoch: 2 | step: 1 |batch_x: [ 7. 10.  9.  3.  2.] |batch_y: [4. 1. 2. 8. 9.]\n"
     ]
    }
   ],
   "metadata": {}
  },
  {
   "cell_type": "code",
   "execution_count": null,
   "source": [],
   "outputs": [],
   "metadata": {}
  },
  {
   "cell_type": "code",
   "execution_count": null,
   "source": [],
   "outputs": [],
   "metadata": {}
  }
 ],
 "metadata": {
  "orig_nbformat": 4,
  "language_info": {
   "name": "python"
  }
 },
 "nbformat": 4,
 "nbformat_minor": 2
}